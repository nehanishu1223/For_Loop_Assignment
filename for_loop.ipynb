{
 "cells": [
  {
   "cell_type": "raw",
   "id": "bc9f2b8c-a476-4305-9979-0bf0bc651d54",
   "metadata": {},
   "source": [
    "For Loop Assignment Questions"
   ]
  },
  {
   "cell_type": "raw",
   "id": "54c50ec5-b74b-4c1a-a577-dcfca6e05d9d",
   "metadata": {},
   "source": [
    "Solution 1"
   ]
  },
  {
   "cell_type": "code",
   "execution_count": 2,
   "id": "0a9172cc-8a82-4897-8ae1-7cb8c8223a7a",
   "metadata": {},
   "outputs": [
    {
     "name": "stdout",
     "output_type": "stream",
     "text": [
      "1\n",
      "2\n",
      "3\n",
      "4\n",
      "5\n",
      "6\n",
      "7\n",
      "8\n",
      "9\n",
      "10\n"
     ]
    }
   ],
   "source": [
    "for i in range(1,11):\n",
    "    print(i)\n"
   ]
  },
  {
   "cell_type": "raw",
   "id": "c957d4b4-d4ff-4635-8fb5-836884c6ba56",
   "metadata": {},
   "source": [
    "Solution 2"
   ]
  },
  {
   "cell_type": "code",
   "execution_count": 4,
   "id": "ebde70bd-45fd-40ee-bf30-fa666249447c",
   "metadata": {},
   "outputs": [
    {
     "name": "stdout",
     "output_type": "stream",
     "text": [
      "16\n"
     ]
    }
   ],
   "source": [
    "given_list = [3, 5, 8]\n",
    "for i in  given_list:\n",
    "    i = sum(given_list)\n",
    "print(i)\n",
    "\n"
   ]
  },
  {
   "cell_type": "raw",
   "id": "57bb6280-cbd8-425b-a4d2-e3652f690aca",
   "metadata": {},
   "source": [
    "Solution 3"
   ]
  },
  {
   "cell_type": "code",
   "execution_count": 6,
   "id": "3be005f8-5313-470a-918b-459c1e67dd67",
   "metadata": {},
   "outputs": [
    {
     "name": "stdout",
     "output_type": "stream",
     "text": [
      "s\n",
      "l\n",
      "l\n",
      "i\n",
      "k\n",
      "s\n",
      "w\n",
      "p\n"
     ]
    }
   ],
   "source": [
    "given_string = \"pwskills\"\n",
    "reversed_string = given_string[::-1]\n",
    "for i in reversed_string:    \n",
    "    print(i)"
   ]
  },
  {
   "cell_type": "raw",
   "id": "a6640a34-7976-451b-aedd-28f3fe310b20",
   "metadata": {},
   "source": [
    "Solution 4"
   ]
  },
  {
   "cell_type": "code",
   "execution_count": 8,
   "id": "e339ba12-dffe-4081-bdea-32863931fd0b",
   "metadata": {},
   "outputs": [
    {
     "name": "stdout",
     "output_type": "stream",
     "text": [
      "The factorial of 5 is: 120\n"
     ]
    }
   ],
   "source": [
    "given_no = 5\n",
    "factorial_of_no = 1\n",
    "\n",
    "for i in range(1, given_no + 1):\n",
    "    factorial_of_no *= i\n",
    "\n",
    "print(f\"The factorial of {given_no} is: {factorial_of_no}\")\n"
   ]
  },
  {
   "cell_type": "raw",
   "id": "5040958f-6843-4a21-a52d-300ed1b88267",
   "metadata": {},
   "source": [
    "Solution 5"
   ]
  },
  {
   "cell_type": "raw",
   "id": "d68648d5-54c9-4dea-9afd-a9e8931efac4",
   "metadata": {},
   "source": [
    "table_number = 2\n",
    "\n",
    "\n",
    "for i in range(1, 10+ 1):\n",
    "    result = table_number * i\n",
    "    print(f\"{table_number} * {i} = {result}\")\n",
    "\n"
   ]
  },
  {
   "cell_type": "raw",
   "id": "74873c92-e352-4120-9012-6813ea096306",
   "metadata": {},
   "source": [
    "Solution 6"
   ]
  },
  {
   "cell_type": "code",
   "execution_count": 12,
   "id": "4ce56c8e-2512-417f-b71d-e549ad15b6f1",
   "metadata": {},
   "outputs": [
    {
     "name": "stdout",
     "output_type": "stream",
     "text": [
      "Number of even numbers: 5\n",
      "Number of odd numbers: 5\n"
     ]
    }
   ],
   "source": [
    "\n",
    "numbers_list = [1, 2, 3, 4, 5, 6, 7, 8, 9, 10]\n",
    "even_count = 0\n",
    "odd_count = 0\n",
    "for num in numbers_list:\n",
    "    if num % 2 == 0:\n",
    "        even_count += 1\n",
    "    else:\n",
    "        odd_count += 1\n",
    "print(f\"Number of even numbers: {even_count}\")\n",
    "print(f\"Number of odd numbers: {odd_count}\")\n"
   ]
  },
  {
   "cell_type": "raw",
   "id": "1ea77dc3-2dff-4b85-bd08-47b3807c13fa",
   "metadata": {},
   "source": [
    "Solution 7"
   ]
  },
  {
   "cell_type": "code",
   "execution_count": 14,
   "id": "427a5527-1999-482d-8c91-a074aa91177f",
   "metadata": {},
   "outputs": [
    {
     "name": "stdout",
     "output_type": "stream",
     "text": [
      "1\n",
      "4\n",
      "9\n",
      "16\n",
      "25\n"
     ]
    }
   ],
   "source": [
    "numbers = 5\n",
    "for i in range(1, numbers + 1):\n",
    "    squared_value = i * i\n",
    "    print(squared_value)\n"
   ]
  },
  {
   "cell_type": "raw",
   "id": "0775ec80-e1f5-4fa6-b586-3339436cdbc4",
   "metadata": {},
   "source": [
    "Solution 8"
   ]
  },
  {
   "cell_type": "code",
   "execution_count": 16,
   "id": "adf0e6b4-1f12-4f1f-ab33-71f308c2730a",
   "metadata": {},
   "outputs": [
    {
     "name": "stdout",
     "output_type": "stream",
     "text": [
      "The length of the string is: 12\n"
     ]
    }
   ],
   "source": [
    "\n",
    "input_string = \"Hello, World\"\n",
    "string_length = 0\n",
    "for char in input_string:\n",
    "    string_length += 1\n",
    "print(f\"The length of the string is: {string_length}\")\n"
   ]
  },
  {
   "cell_type": "raw",
   "id": "9fca9c30-708a-45ca-acdb-9530627f0dc3",
   "metadata": {},
   "source": [
    "Solution 9"
   ]
  },
  {
   "cell_type": "code",
   "execution_count": 18,
   "id": "9622fdbb-19a3-4856-a021-7a515dce3391",
   "metadata": {},
   "outputs": [
    {
     "name": "stdout",
     "output_type": "stream",
     "text": [
      "5.333333333333333\n",
      "5.333333333333333\n",
      "5.333333333333333\n"
     ]
    }
   ],
   "source": [
    "given_list = [3, 5, 8]\n",
    "\n",
    "average_value = sum(given_list) / len(given_list)\n",
    "\n",
    "for i in given_list:\n",
    "    print(average_value)\n"
   ]
  },
  {
   "cell_type": "raw",
   "id": "b216854c-b960-4ec6-8bee-f6ca075164aa",
   "metadata": {},
   "source": [
    "Solution 10"
   ]
  },
  {
   "cell_type": "code",
   "execution_count": 20,
   "id": "2f00c24a-8afd-4ac1-b9c0-9ad0d24e740e",
   "metadata": {},
   "outputs": [
    {
     "name": "stdin",
     "output_type": "stream",
     "text": [
      "Enter the value of n:  6\n"
     ]
    },
    {
     "name": "stdout",
     "output_type": "stream",
     "text": [
      "The first 6 Fibonacci numbers are: [0, 1, 1, 2, 3, 5]\n"
     ]
    }
   ],
   "source": [
    "\n",
    "n = int(input(\"Enter the value of n: \"))\n",
    "fibonacci_numbers = [0, 1]\n",
    "for ab in range(2, n):\n",
    "    next_number = fibonacci_numbers[-1] + fibonacci_numbers[-2]\n",
    "    fibonacci_numbers.append(next_number)\n",
    "print(f\"The first {n} Fibonacci numbers are: {fibonacci_numbers}\")\n"
   ]
  },
  {
   "cell_type": "raw",
   "id": "f0a9ea56-39ce-4ee0-b763-774ba8fbae0a",
   "metadata": {},
   "source": [
    "Solution 11"
   ]
  },
  {
   "cell_type": "code",
   "execution_count": 22,
   "id": "03d75487-5560-4abf-be75-0b2fbbd8f94e",
   "metadata": {},
   "outputs": [
    {
     "name": "stdout",
     "output_type": "stream",
     "text": [
      "The list contains duplicates.\n"
     ]
    }
   ],
   "source": [
    "my_list = [1, 2, 3, 4, 5, 2]\n",
    "has_duplicates = False\n",
    "\n",
    "for i in range(len(my_list)):\n",
    "    for j in range(i + 1, len(my_list)):\n",
    "        if my_list[i] == my_list[j]:\n",
    "            has_duplicates = True\n",
    "\n",
    "if has_duplicates:\n",
    "    print(\"The list contains duplicates.\")\n",
    "else:\n",
    "    print(\"The list does not contain duplicates.\")\n"
   ]
  },
  {
   "cell_type": "raw",
   "id": "17b1bc98-da90-41a1-b264-59eff7a1283c",
   "metadata": {},
   "source": [
    "Solution 12"
   ]
  },
  {
   "cell_type": "code",
   "execution_count": 24,
   "id": "037ee613-8799-485e-a3ec-2efa22556b03",
   "metadata": {},
   "outputs": [
    {
     "name": "stdin",
     "output_type": "stream",
     "text": [
      "Enter the number 8\n"
     ]
    },
    {
     "name": "stdout",
     "output_type": "stream",
     "text": [
      "This is not a prime no\n"
     ]
    }
   ],
   "source": [
    "num = int(input(\"Enter the number\"))\n",
    "Prime = True\n",
    "for i in range (2, num):\n",
    "    if (num%i == 0 ):\n",
    "        Prime = False\n",
    "        break\n",
    "if Prime:\n",
    "    print(\"This is a prime no\")\n",
    "    \n",
    "else:\n",
    "    print(\"This is not a prime no\")\n",
    "\n"
   ]
  },
  {
   "cell_type": "raw",
   "id": "8c5eb839-3dfc-4c2f-ab40-e183e00b5216",
   "metadata": {},
   "source": [
    "Solution 13"
   ]
  },
  {
   "cell_type": "code",
   "execution_count": 26,
   "id": "010f58d0-0849-4beb-aa45-73efb92519f1",
   "metadata": {},
   "outputs": [
    {
     "name": "stdin",
     "output_type": "stream",
     "text": [
      "Enter a string:  physics wallah\n"
     ]
    },
    {
     "name": "stdout",
     "output_type": "stream",
     "text": [
      "The number of vowels in the string is: 3\n"
     ]
    }
   ],
   "source": [
    "input_string = input(\"Enter a string: \")\n",
    "vowels = \"aeiouAEIOU\"\n",
    "vowel_count = 0\n",
    "\n",
    "for char in input_string:\n",
    "    if char in vowels:\n",
    "        vowel_count += 1\n",
    "\n",
    "print(f\"The number of vowels in the string is: {vowel_count}\")\n",
    "\n"
   ]
  },
  {
   "cell_type": "raw",
   "id": "14f22b80-f991-480a-9619-36671d893eee",
   "metadata": {},
   "source": [
    "Solution 14"
   ]
  },
  {
   "cell_type": "code",
   "execution_count": 28,
   "id": "3ee4d9af-62e5-48cc-8f9b-92b015b44d06",
   "metadata": {},
   "outputs": [
    {
     "name": "stdout",
     "output_type": "stream",
     "text": [
      "The maximum element in the 2D list is: 9\n"
     ]
    }
   ],
   "source": [
    "\n",
    "matrix = [\n",
    "    [1, 5, 3],\n",
    "    [9, 2, 8],\n",
    "    [4, 7, 6]\n",
    "]\n",
    "\n",
    "\n",
    "max_element = float('-inf')\n",
    "\n",
    "\n",
    "for row in matrix:\n",
    "    for element in row:\n",
    "        if element > max_element:\n",
    "            max_element = element\n",
    "\n",
    "print(f\"The maximum element in the 2D list is: {max_element}\")\n"
   ]
  },
  {
   "cell_type": "raw",
   "id": "85b06a03-e309-48e7-b432-3aeed82bab45",
   "metadata": {},
   "source": [
    "Solution 15"
   ]
  },
  {
   "cell_type": "code",
   "execution_count": 30,
   "id": "52e137db-3350-4979-a425-5ab2f33509eb",
   "metadata": {},
   "outputs": [
    {
     "name": "stdout",
     "output_type": "stream",
     "text": [
      "Updated List after removing 2: [1, 3, 4, 5, 6]\n"
     ]
    }
   ],
   "source": [
    "original_list = [1, 2, 3, 4, 2, 5, 2, 6]\n",
    "target_value = 2\n",
    "\n",
    "\n",
    "while target_value in original_list:\n",
    "    original_list.remove(target_value)\n",
    "\n",
    "print(f\"Updated List after removing {target_value}: {original_list}\")\n"
   ]
  },
  {
   "cell_type": "raw",
   "id": "a56d2e50-92e7-4f73-92a7-586ca7b3df43",
   "metadata": {},
   "source": [
    "Solution 16"
   ]
  },
  {
   "cell_type": "code",
   "execution_count": 32,
   "id": "a6329a01-4add-4094-b170-0bd08f4cfcd3",
   "metadata": {},
   "outputs": [
    {
     "name": "stdout",
     "output_type": "stream",
     "text": [
      "1 * 1 = 1\n",
      "1 * 2 = 2\n",
      "1 * 3 = 3\n",
      "1 * 4 = 4\n",
      "1 * 5 = 5\n",
      "1 * 6 = 6\n",
      "1 * 7 = 7\n",
      "1 * 8 = 8\n",
      "1 * 9 = 9\n",
      "1 * 10 = 10\n",
      "2 * 1 = 2\n",
      "2 * 2 = 4\n",
      "2 * 3 = 6\n",
      "2 * 4 = 8\n",
      "2 * 5 = 10\n",
      "2 * 6 = 12\n",
      "2 * 7 = 14\n",
      "2 * 8 = 16\n",
      "2 * 9 = 18\n",
      "2 * 10 = 20\n",
      "3 * 1 = 3\n",
      "3 * 2 = 6\n",
      "3 * 3 = 9\n",
      "3 * 4 = 12\n",
      "3 * 5 = 15\n",
      "3 * 6 = 18\n",
      "3 * 7 = 21\n",
      "3 * 8 = 24\n",
      "3 * 9 = 27\n",
      "3 * 10 = 30\n",
      "4 * 1 = 4\n",
      "4 * 2 = 8\n",
      "4 * 3 = 12\n",
      "4 * 4 = 16\n",
      "4 * 5 = 20\n",
      "4 * 6 = 24\n",
      "4 * 7 = 28\n",
      "4 * 8 = 32\n",
      "4 * 9 = 36\n",
      "4 * 10 = 40\n",
      "5 * 1 = 5\n",
      "5 * 2 = 10\n",
      "5 * 3 = 15\n",
      "5 * 4 = 20\n",
      "5 * 5 = 25\n",
      "5 * 6 = 30\n",
      "5 * 7 = 35\n",
      "5 * 8 = 40\n",
      "5 * 9 = 45\n",
      "5 * 10 = 50\n"
     ]
    }
   ],
   "source": [
    "\n",
    "start_range = 1\n",
    "end_range = 5\n",
    "\n",
    "\n",
    "for i in range(start_range, end_range + 1):\n",
    "    for j in range(1, 11):  \n",
    "        result = i * j\n",
    "        print(f\"{i} * {j} = {result}\")\n"
   ]
  },
  {
   "cell_type": "raw",
   "id": "d47f0792-b77c-49f9-985f-23f8b7868cf1",
   "metadata": {},
   "source": [
    "Solution 17"
   ]
  },
  {
   "cell_type": "code",
   "execution_count": 34,
   "id": "947c0b3f-ca70-4fe4-8886-bef14933885a",
   "metadata": {},
   "outputs": [
    {
     "name": "stdout",
     "output_type": "stream",
     "text": [
      "32°F is equal to 0.00°C\n",
      "68°F is equal to 20.00°C\n",
      "104°F is equal to 40.00°C\n",
      "212°F is equal to 100.00°C\n",
      "0°F is equal to -17.78°C\n",
      "-40°F is equal to -40.00°C\n"
     ]
    }
   ],
   "source": [
    "\n",
    "fahrenheit_temperatures = [32, 68, 104, 212, 0, -40]\n",
    "celsius_temperatures = []\n",
    "for fahrenheit in fahrenheit_temperatures:\n",
    "    celsius = (fahrenheit - 32) * 5/9\n",
    "    celsius_temperatures.append(celsius)\n",
    "for i in range(len(fahrenheit_temperatures)):\n",
    "    print(f\"{fahrenheit_temperatures[i]}°F is equal to {celsius_temperatures[i]:.2f}°C\")\n"
   ]
  },
  {
   "cell_type": "raw",
   "id": "c9e83a73-96fd-481e-84ad-649db02ed654",
   "metadata": {},
   "source": [
    "Solution 18"
   ]
  },
  {
   "cell_type": "code",
   "execution_count": 36,
   "id": "3fce13c8-789d-4288-b432-3d5cf827bc6a",
   "metadata": {},
   "outputs": [
    {
     "name": "stdout",
     "output_type": "stream",
     "text": [
      "Common elements: [3, 4, 5]\n"
     ]
    }
   ],
   "source": [
    "\n",
    "list1 = [1, 2, 3, 4, 5]\n",
    "list2 = [3, 4, 5, 6, 7]\n",
    "common_elements = []\n",
    "\n",
    "for element in list1:\n",
    "    if element in list2:\n",
    "        common_elements.append(element)\n",
    "\n",
    "print(\"Common elements:\", common_elements)\n"
   ]
  },
  {
   "cell_type": "raw",
   "id": "494032d7-053b-4289-9911-d8ca4dcd483a",
   "metadata": {},
   "source": [
    "Solution 19"
   ]
  },
  {
   "cell_type": "code",
   "execution_count": 38,
   "id": "3bd09419-0140-4ef8-ac5f-a68c0f03b874",
   "metadata": {},
   "outputs": [
    {
     "name": "stdout",
     "output_type": "stream",
     "text": [
      "*\n",
      "**\n",
      "***\n",
      "****\n",
      "*****\n"
     ]
    }
   ],
   "source": [
    "\n",
    "num_rows = 5\n",
    "for i in range(1, num_rows + 1):\n",
    "    print('*' * i)\n"
   ]
  },
  {
   "cell_type": "raw",
   "id": "1f800589-7bc0-4785-86b9-a268caf8af09",
   "metadata": {},
   "source": [
    "Solution 20"
   ]
  },
  {
   "cell_type": "code",
   "execution_count": 40,
   "id": "e8d65275-33d7-4265-ac3d-5713ce45af3f",
   "metadata": {},
   "outputs": [
    {
     "name": "stdin",
     "output_type": "stream",
     "text": [
      "Enter the first number:  9\n",
      "Enter the second number:  8\n"
     ]
    },
    {
     "name": "stdout",
     "output_type": "stream",
     "text": [
      "The Greatest Common Divisor (GCD) of 9 and 8 is: 1\n"
     ]
    }
   ],
   "source": [
    "\n",
    "number1 = int(input(\"Enter the first number: \"))\n",
    "number2 = int(input(\"Enter the second number: \"))\n",
    "smaller = min(number1, number2)\n",
    "gcd = 1\n",
    "for i in range(1, smaller + 1):\n",
    "    if number1 % i == 0 and number2 % i == 0:\n",
    "        gcd = i\n",
    "\n",
    "print(f\"The Greatest Common Divisor (GCD) of {number1} and {number2} is: {gcd}\")\n"
   ]
  },
  {
   "cell_type": "raw",
   "id": "c743e868-f871-4dbb-95cf-114a03eb804a",
   "metadata": {},
   "source": [
    "Solution 21"
   ]
  },
  {
   "cell_type": "code",
   "execution_count": 42,
   "id": "430d3238-5afa-4f41-8835-24bbc8e1ebfa",
   "metadata": {},
   "outputs": [
    {
     "name": "stdout",
     "output_type": "stream",
     "text": [
      "Number: 123, Digit Sum: 6\n",
      "Number: 456, Digit Sum: 15\n",
      "Number: 789, Digit Sum: 24\n",
      "Number: 987, Digit Sum: 24\n"
     ]
    }
   ],
   "source": [
    "\n",
    "numbers = [123, 456, 789, 987]\n",
    "digit_sums = [sum(int(digit) for digit in str(num)) for num in numbers]\n",
    "for i, num in enumerate(numbers):\n",
    "    print(f\"Number: {num}, Digit Sum: {digit_sums[i]}\")\n"
   ]
  },
  {
   "cell_type": "raw",
   "id": "af0ff1db-dd57-4518-9817-93914a6cc72e",
   "metadata": {},
   "source": [
    "Solution 22"
   ]
  },
  {
   "cell_type": "code",
   "execution_count": 44,
   "id": "ccedaffe-1bf9-4386-b6f1-667a17db1d26",
   "metadata": {},
   "outputs": [
    {
     "name": "stdin",
     "output_type": "stream",
     "text": [
      "Enter a number:  89\n"
     ]
    },
    {
     "name": "stdout",
     "output_type": "stream",
     "text": [
      "Prime factors of 89: [89]\n"
     ]
    }
   ],
   "source": [
    "\n",
    "number = int(input(\"Enter a number: \"))\n",
    "factors = [factor for factor in range(2, number+1) if number % factor == 0 and all(factor % i != 0 for i in range(2, int(factor**0.5)+1))]\n",
    "\n",
    "print(f\"Prime factors of {number}: {factors}\")\n"
   ]
  },
  {
   "cell_type": "raw",
   "id": "0381bbc7-8952-45db-b8e0-76c1fc9ad602",
   "metadata": {},
   "source": [
    "Solution 23"
   ]
  },
  {
   "cell_type": "code",
   "execution_count": 46,
   "id": "dfc85ce5-41c8-4f4f-9926-f3016e5646c7",
   "metadata": {},
   "outputs": [
    {
     "name": "stdout",
     "output_type": "stream",
     "text": [
      "Original List: [1, 2, 3, 4, 2, 3, 5, 6, 7, 8, 1]\n",
      "Unique Elements: [1, 2, 3, 4, 5, 6, 7, 8]\n"
     ]
    }
   ],
   "source": [
    "\n",
    "original_list = [1, 2, 3, 4, 2, 3, 5, 6, 7, 8, 1]\n",
    "unique_elements = list(set(element for element in original_list))\n",
    "\n",
    "print(\"Original List:\", original_list)\n",
    "print(\"Unique Elements:\", unique_elements)\n"
   ]
  },
  {
   "cell_type": "raw",
   "id": "577ad8e0-c128-46b5-9afa-26dd98957c02",
   "metadata": {},
   "source": [
    "Solution 24"
   ]
  },
  {
   "cell_type": "code",
   "execution_count": 48,
   "id": "9fa5483d-6e6e-4862-a55f-8816bf54a55c",
   "metadata": {},
   "outputs": [
    {
     "name": "stdout",
     "output_type": "stream",
     "text": [
      "Palindromic Numbers up to 1000:\n",
      "[0, 1, 2, 3, 4, 5, 6, 7, 8, 9, 11, 22, 33, 44, 55, 66, 77, 88, 99, 101, 111, 121, 131, 141, 151, 161, 171, 181, 191, 202, 212, 222, 232, 242, 252, 262, 272, 282, 292, 303, 313, 323, 333, 343, 353, 363, 373, 383, 393, 404, 414, 424, 434, 444, 454, 464, 474, 484, 494, 505, 515, 525, 535, 545, 555, 565, 575, 585, 595, 606, 616, 626, 636, 646, 656, 666, 676, 686, 696, 707, 717, 727, 737, 747, 757, 767, 777, 787, 797, 808, 818, 828, 838, 848, 858, 868, 878, 888, 898, 909, 919, 929, 939, 949, 959, 969, 979, 989, 999]\n"
     ]
    }
   ],
   "source": [
    "\n",
    "limit = 1000\n",
    "palindromic_numbers = [num for num in range(limit + 1) if str(num) == str(num)[::-1]]\n",
    "print(f\"Palindromic Numbers up to {limit}:\")\n",
    "print(palindromic_numbers)\n"
   ]
  },
  {
   "cell_type": "raw",
   "id": "af5a7e08-c23d-4a61-82c6-afd3fec167bc",
   "metadata": {},
   "source": [
    "Solution 25"
   ]
  },
  {
   "cell_type": "code",
   "execution_count": 50,
   "id": "b120ab38-bc64-4064-99cc-1c9f6280f19f",
   "metadata": {},
   "outputs": [
    {
     "name": "stdout",
     "output_type": "stream",
     "text": [
      "Nested List: [[1, 2, 3], [4, 5], [6, 7, 8]]\n",
      "Flattened List: [1, 2, 3, 4, 5, 6, 7, 8]\n"
     ]
    }
   ],
   "source": [
    "\n",
    "nested_list = [[1, 2, 3], [4, 5], [6, 7, 8]]\n",
    "flattened_list = [element for sublist in nested_list for element in sublist]\n",
    "print(\"Nested List:\", nested_list)\n",
    "print(\"Flattened List:\", flattened_list)\n"
   ]
  },
  {
   "cell_type": "raw",
   "id": "5ef95d73-a34f-45dd-8b93-327ce25b4aa6",
   "metadata": {},
   "source": [
    "Solution 26"
   ]
  },
  {
   "cell_type": "code",
   "execution_count": 52,
   "id": "290505ca-9358-4d57-9fd7-bb93195c5544",
   "metadata": {},
   "outputs": [
    {
     "name": "stdout",
     "output_type": "stream",
     "text": [
      "Sum of Even Numbers: 30\n",
      "Sum of Odd Numbers: 25\n"
     ]
    }
   ],
   "source": [
    "\n",
    "numbers = [1, 2, 3, 4, 5, 6, 7, 8, 9, 10]\n",
    "even_numbers = [num for num in numbers if num % 2 == 0]\n",
    "odd_numbers = [num for num in numbers if num % 2 != 0]\n",
    "sum_even = sum(even_numbers)\n",
    "sum_odd = sum(odd_numbers)\n",
    "print(\"Sum of Even Numbers:\", sum_even)\n",
    "print(\"Sum of Odd Numbers:\", sum_odd)\n"
   ]
  },
  {
   "cell_type": "raw",
   "id": "a1ef3df5-506a-4e23-8349-75f9102c86d0",
   "metadata": {},
   "source": [
    "Solution 27"
   ]
  },
  {
   "cell_type": "code",
   "execution_count": 54,
   "id": "27208887-8bdc-4069-9402-5ca499ed8070",
   "metadata": {},
   "outputs": [
    {
     "name": "stdout",
     "output_type": "stream",
     "text": [
      "List of Squares of Odd Numbers between 1 and 10:\n",
      "[1, 9, 25, 49, 81]\n"
     ]
    }
   ],
   "source": [
    "\n",
    "squares_of_odd_numbers = [num**2 for num in range(1, 11) if num % 2 != 0]\n",
    "print(\"List of Squares of Odd Numbers between 1 and 10:\")\n",
    "print(squares_of_odd_numbers)\n"
   ]
  },
  {
   "cell_type": "raw",
   "id": "95cb68c3-9b3b-4f4d-b9a7-b248d4912cb9",
   "metadata": {},
   "source": [
    "Solution 28"
   ]
  },
  {
   "cell_type": "code",
   "execution_count": 56,
   "id": "e196ade8-6421-4c21-8dc6-f9dd660568d6",
   "metadata": {},
   "outputs": [
    {
     "name": "stdout",
     "output_type": "stream",
     "text": [
      "Combined Dictionary:\n",
      "{'name': 'Alice', 'age': 25, 'city': 'New York'}\n"
     ]
    }
   ],
   "source": [
    "\n",
    "keys = ['name', 'age', 'city']\n",
    "values = ['Alice', 25, 'New York']\n",
    "combined_dict = {keys[i]: values[i] for i in range(min(len(keys), len(values)))}\n",
    "print(\"Combined Dictionary:\")\n",
    "print(combined_dict)\n"
   ]
  },
  {
   "cell_type": "raw",
   "id": "9b40be64-6418-474e-8427-398f468fe3d5",
   "metadata": {},
   "source": [
    "Solution 29"
   ]
  },
  {
   "cell_type": "code",
   "execution_count": 58,
   "id": "1029a64d-e7a0-490f-b5a3-87469c59b859",
   "metadata": {},
   "outputs": [
    {
     "name": "stdout",
     "output_type": "stream",
     "text": [
      "Input String: Hello, World!\n",
      "Vowels: ['e', 'o', 'o']\n"
     ]
    }
   ],
   "source": [
    "\n",
    "input_string = \"Hello, World!\"\n",
    "vowels = [char.lower() for char in input_string if char.lower() in 'aeiou']\n",
    "print(\"Input String:\", input_string)\n",
    "print(\"Vowels:\", vowels)\n"
   ]
  },
  {
   "cell_type": "raw",
   "id": "4a0a48e1-d963-4a1a-8f77-02746a251f15",
   "metadata": {},
   "source": [
    "Solution 30"
   ]
  },
  {
   "cell_type": "code",
   "execution_count": 60,
   "id": "e9910fba-ca37-4b2d-a946-57ef32ae6e8a",
   "metadata": {},
   "outputs": [
    {
     "name": "stdout",
     "output_type": "stream",
     "text": [
      "Original List: ['abc123', '456def', '789ghi', 'jkl!@#$%^&*()']\n",
      "Numeric Strings: ['123', '456', '789', '']\n"
     ]
    }
   ],
   "source": [
    "\n",
    "string_list = [\"abc123\", \"456def\", \"789ghi\", \"jkl!@#$%^&*()\"]\n",
    "numeric_strings = [''.join(char for char in string if char.isnumeric()) for string in string_list]\n",
    "print(\"Original List:\", string_list)\n",
    "print(\"Numeric Strings:\", numeric_strings)\n"
   ]
  },
  {
   "cell_type": "raw",
   "id": "05f4cb8a-6042-4cbf-b890-bfa1f833f0b3",
   "metadata": {},
   "source": [
    "Solution 31"
   ]
  },
  {
   "cell_type": "code",
   "execution_count": 62,
   "id": "8ccc640a-0ae1-4ee3-b225-a91b9fc0f57e",
   "metadata": {},
   "outputs": [
    {
     "name": "stdout",
     "output_type": "stream",
     "text": [
      "Prime Numbers up to 50 : [2, 3, 5, 7, 11, 13, 17, 19, 23, 29, 31, 37, 41, 43, 47]\n"
     ]
    }
   ],
   "source": [
    "\n",
    "limit = 50\n",
    "is_prime = [True] * (limit + 1)\n",
    "is_prime[0], is_prime[1] = False, False  \n",
    "for i in range(2, int(limit**0.5) + 1):\n",
    "    if is_prime[i]:\n",
    "        for j in range(i**2, limit + 1, i):\n",
    "            is_prime[j] = False\n",
    "prime_numbers = [num for num in range(2, limit + 1) if is_prime[num]]\n",
    "print(\"Prime Numbers up to\", limit, \":\", prime_numbers)\n"
   ]
  },
  {
   "cell_type": "raw",
   "id": "9df68e7d-2c42-43da-9340-07574de821e7",
   "metadata": {},
   "source": [
    "Solution 32"
   ]
  },
  {
   "cell_type": "code",
   "execution_count": 64,
   "id": "6d24acba-85de-4cbc-8b46-988919ebff3b",
   "metadata": {},
   "outputs": [
    {
     "name": "stdout",
     "output_type": "stream",
     "text": [
      "Pythagorean Triplets up to 20:\n",
      "[(3, 4, 5), (5, 12, 13), (6, 8, 10), (8, 15, 17), (9, 12, 15), (12, 16, 20)]\n"
     ]
    }
   ],
   "source": [
    "\n",
    "limit = 20\n",
    "pythagorean_triplets = [(a, b, c) for a in range(1, limit + 1) \n",
    "                         for b in range(a, limit + 1) \n",
    "                         for c in range(b, limit + 1) \n",
    "                         if a**2 + b**2 == c**2]\n",
    "print(f\"Pythagorean Triplets up to {limit}:\")\n",
    "print(pythagorean_triplets)\n"
   ]
  },
  {
   "cell_type": "raw",
   "id": "b864ea62-68e4-4a76-81d9-b0bd36449d3b",
   "metadata": {},
   "source": [
    "Solution 33"
   ]
  },
  {
   "cell_type": "code",
   "execution_count": 66,
   "id": "9640c0ee-bef0-4b6f-a812-25709f8d5e99",
   "metadata": {},
   "outputs": [
    {
     "name": "stdout",
     "output_type": "stream",
     "text": [
      "List 1: [1, 2, 3]\n",
      "List 2: ['a', 'b', 'c']\n",
      "All Possible Combinations:\n",
      "[(1, 'a'), (1, 'b'), (1, 'c'), (2, 'a'), (2, 'b'), (2, 'c'), (3, 'a'), (3, 'b'), (3, 'c')]\n"
     ]
    }
   ],
   "source": [
    "\n",
    "list1 = [1, 2, 3]\n",
    "list2 = ['a', 'b', 'c']\n",
    "combinations = [(x, y) for x in list1 for y in list2]\n",
    "print(\"List 1:\", list1)\n",
    "print(\"List 2:\", list2)\n",
    "print(\"All Possible Combinations:\")\n",
    "print(combinations)\n"
   ]
  },
  {
   "cell_type": "raw",
   "id": "61d27c33-2964-4020-a22c-78bb0085b557",
   "metadata": {},
   "source": [
    "Solution 34"
   ]
  },
  {
   "cell_type": "code",
   "execution_count": 68,
   "id": "7842f04e-452c-4967-9766-b7eff13f9a30",
   "metadata": {},
   "outputs": [
    {
     "name": "stdout",
     "output_type": "stream",
     "text": [
      "List of Numbers: [5, 2, 8, 3, 7, 3, 9, 1, 5, 4]\n",
      "Mean: 4.7\n",
      "Median: 4.5\n",
      "Mode: [3, 5]\n"
     ]
    }
   ],
   "source": [
    "\n",
    "numbers = [5, 2, 8, 3, 7, 3, 9, 1, 5, 4]\n",
    "mean = sum(numbers) / len(numbers)\n",
    "sorted_numbers = sorted(numbers)\n",
    "median = sorted_numbers[len(numbers) // 2] if len(numbers) % 2 != 0 else (sorted_numbers[len(numbers) // 2 - 1] + sorted_numbers[len(numbers) // 2]) / 2\n",
    "\n",
    "counts = {num: numbers.count(num) for num in set(numbers)}\n",
    "mode = [num for num, count in counts.items() if count == max(counts.values())]\n",
    "print(\"List of Numbers:\", numbers)\n",
    "print(\"Mean:\", mean)\n",
    "print(\"Median:\", median)\n",
    "print(\"Mode:\", mode)\n"
   ]
  },
  {
   "cell_type": "raw",
   "id": "a30ce254-1768-47b7-aef6-8fc6a0ebd38f",
   "metadata": {},
   "source": [
    "Solution 35"
   ]
  },
  {
   "cell_type": "code",
   "execution_count": 70,
   "id": "8f5d75af-3d58-4f2f-8f47-6c198fccc95e",
   "metadata": {},
   "outputs": [
    {
     "name": "stdout",
     "output_type": "stream",
     "text": [
      "Pascal's Triangle (5 rows):\n",
      "[1]\n",
      "[1, 1]\n",
      "[1, 2, 1]\n",
      "[1, 3, 3, 1]\n",
      "[1, 4, 6, 4, 1]\n"
     ]
    }
   ],
   "source": [
    "\n",
    "num_rows = 5\n",
    "triangle = [[1] * (row + 1) for row in range(num_rows)]\n",
    "\n",
    "for i in range(2, num_rows):\n",
    "    for j in range(1, i):\n",
    "        triangle[i][j] = triangle[i-1][j-1] + triangle[i-1][j]\n",
    "print(f\"Pascal's Triangle ({num_rows} rows):\")\n",
    "for row in triangle:\n",
    "    print(row)\n"
   ]
  },
  {
   "cell_type": "raw",
   "id": "04a1d449-2b81-4682-b0ea-5fa98b6fa8f2",
   "metadata": {},
   "source": [
    "Solution 36"
   ]
  },
  {
   "cell_type": "code",
   "execution_count": 72,
   "id": "89aa8d00-a54f-431a-be01-d88c130e9775",
   "metadata": {},
   "outputs": [
    {
     "name": "stdout",
     "output_type": "stream",
     "text": [
      "Factorial Sum of Digits (for numbers 1 to 5):\n",
      "[1, 2, 6, 6, 3]\n"
     ]
    }
   ],
   "source": [
    "\n",
    "factorial_sums = [sum(int(digit) for digit in str(factorial)) for factorial in [1, 2, 6, 24, 120]]\n",
    "\n",
    "print(\"Factorial Sum of Digits (for numbers 1 to 5):\")\n",
    "print(factorial_sums)\n"
   ]
  },
  {
   "cell_type": "raw",
   "id": "7b4342ec-3d25-4510-af33-dda0573f0619",
   "metadata": {},
   "source": [
    "Solution 37"
   ]
  },
  {
   "cell_type": "code",
   "execution_count": 74,
   "id": "17f53b57-a001-4705-a85f-d8745e644545",
   "metadata": {},
   "outputs": [
    {
     "name": "stdout",
     "output_type": "stream",
     "text": [
      "Input Sentence: This is a sample sentence to find the longest word.\n",
      "Longest Word: sentence\n"
     ]
    }
   ],
   "source": [
    "\n",
    "sentence = \"This is a sample sentence to find the longest word.\"\n",
    "\n",
    "longest_word = max((word.strip(\".,?!\") for word in sentence.split()), key=len)\n",
    "print(\"Input Sentence:\", sentence)\n",
    "print(\"Longest Word:\", longest_word)\n"
   ]
  },
  {
   "cell_type": "raw",
   "id": "3fcb5e11-6f8f-476e-b10c-6178f3f6cdfb",
   "metadata": {},
   "source": [
    "Solution 38"
   ]
  },
  {
   "cell_type": "code",
   "execution_count": 76,
   "id": "fc89256b-e1f0-4be4-aeaa-82a43cb49fe9",
   "metadata": {},
   "outputs": [
    {
     "name": "stdout",
     "output_type": "stream",
     "text": [
      "Original List: ['hello', 'world', 'python', 'programming', 'example', 'list', 'comprehension']\n",
      "Filtered Strings (more than 3 vowels): ['comprehension']\n"
     ]
    }
   ],
   "source": [
    "\n",
    "string_list = [\"hello\", \"world\", \"python\", \"programming\", \"example\", \"list\", \"comprehension\"]\n",
    "\n",
    "filtered_strings = [word for word in string_list if sum(1 for char in word if char.lower() in 'aeiou') > 3]\n",
    "print(\"Original List:\", string_list)\n",
    "print(\"Filtered Strings (more than 3 vowels):\", filtered_strings)\n"
   ]
  },
  {
   "cell_type": "raw",
   "id": "f538df34-e5bd-4322-b1ce-14cc11ccf935",
   "metadata": {},
   "source": [
    "Solution 39"
   ]
  },
  {
   "cell_type": "code",
   "execution_count": 78,
   "id": "23ad2130-96e1-4eed-9af8-a79bdebaece1",
   "metadata": {},
   "outputs": [
    {
     "name": "stdout",
     "output_type": "stream",
     "text": [
      "Sum of Digits for Numbers from 1 to 1000:\n",
      "[1, 2, 3, 4, 5, 6, 7, 8, 9, 1, 2, 3, 4, 5, 6, 7, 8, 9, 10, 2, 3, 4, 5, 6, 7, 8, 9, 10, 11, 3, 4, 5, 6, 7, 8, 9, 10, 11, 12, 4, 5, 6, 7, 8, 9, 10, 11, 12, 13, 5, 6, 7, 8, 9, 10, 11, 12, 13, 14, 6, 7, 8, 9, 10, 11, 12, 13, 14, 15, 7, 8, 9, 10, 11, 12, 13, 14, 15, 16, 8, 9, 10, 11, 12, 13, 14, 15, 16, 17, 9, 10, 11, 12, 13, 14, 15, 16, 17, 18, 1, 2, 3, 4, 5, 6, 7, 8, 9, 10, 2, 3, 4, 5, 6, 7, 8, 9, 10, 11, 3, 4, 5, 6, 7, 8, 9, 10, 11, 12, 4, 5, 6, 7, 8, 9, 10, 11, 12, 13, 5, 6, 7, 8, 9, 10, 11, 12, 13, 14, 6, 7, 8, 9, 10, 11, 12, 13, 14, 15, 7, 8, 9, 10, 11, 12, 13, 14, 15, 16, 8, 9, 10, 11, 12, 13, 14, 15, 16, 17, 9, 10, 11, 12, 13, 14, 15, 16, 17, 18, 10, 11, 12, 13, 14, 15, 16, 17, 18, 19, 2, 3, 4, 5, 6, 7, 8, 9, 10, 11, 3, 4, 5, 6, 7, 8, 9, 10, 11, 12, 4, 5, 6, 7, 8, 9, 10, 11, 12, 13, 5, 6, 7, 8, 9, 10, 11, 12, 13, 14, 6, 7, 8, 9, 10, 11, 12, 13, 14, 15, 7, 8, 9, 10, 11, 12, 13, 14, 15, 16, 8, 9, 10, 11, 12, 13, 14, 15, 16, 17, 9, 10, 11, 12, 13, 14, 15, 16, 17, 18, 10, 11, 12, 13, 14, 15, 16, 17, 18, 19, 11, 12, 13, 14, 15, 16, 17, 18, 19, 20, 3, 4, 5, 6, 7, 8, 9, 10, 11, 12, 4, 5, 6, 7, 8, 9, 10, 11, 12, 13, 5, 6, 7, 8, 9, 10, 11, 12, 13, 14, 6, 7, 8, 9, 10, 11, 12, 13, 14, 15, 7, 8, 9, 10, 11, 12, 13, 14, 15, 16, 8, 9, 10, 11, 12, 13, 14, 15, 16, 17, 9, 10, 11, 12, 13, 14, 15, 16, 17, 18, 10, 11, 12, 13, 14, 15, 16, 17, 18, 19, 11, 12, 13, 14, 15, 16, 17, 18, 19, 20, 12, 13, 14, 15, 16, 17, 18, 19, 20, 21, 4, 5, 6, 7, 8, 9, 10, 11, 12, 13, 5, 6, 7, 8, 9, 10, 11, 12, 13, 14, 6, 7, 8, 9, 10, 11, 12, 13, 14, 15, 7, 8, 9, 10, 11, 12, 13, 14, 15, 16, 8, 9, 10, 11, 12, 13, 14, 15, 16, 17, 9, 10, 11, 12, 13, 14, 15, 16, 17, 18, 10, 11, 12, 13, 14, 15, 16, 17, 18, 19, 11, 12, 13, 14, 15, 16, 17, 18, 19, 20, 12, 13, 14, 15, 16, 17, 18, 19, 20, 21, 13, 14, 15, 16, 17, 18, 19, 20, 21, 22, 5, 6, 7, 8, 9, 10, 11, 12, 13, 14, 6, 7, 8, 9, 10, 11, 12, 13, 14, 15, 7, 8, 9, 10, 11, 12, 13, 14, 15, 16, 8, 9, 10, 11, 12, 13, 14, 15, 16, 17, 9, 10, 11, 12, 13, 14, 15, 16, 17, 18, 10, 11, 12, 13, 14, 15, 16, 17, 18, 19, 11, 12, 13, 14, 15, 16, 17, 18, 19, 20, 12, 13, 14, 15, 16, 17, 18, 19, 20, 21, 13, 14, 15, 16, 17, 18, 19, 20, 21, 22, 14, 15, 16, 17, 18, 19, 20, 21, 22, 23, 6, 7, 8, 9, 10, 11, 12, 13, 14, 15, 7, 8, 9, 10, 11, 12, 13, 14, 15, 16, 8, 9, 10, 11, 12, 13, 14, 15, 16, 17, 9, 10, 11, 12, 13, 14, 15, 16, 17, 18, 10, 11, 12, 13, 14, 15, 16, 17, 18, 19, 11, 12, 13, 14, 15, 16, 17, 18, 19, 20, 12, 13, 14, 15, 16, 17, 18, 19, 20, 21, 13, 14, 15, 16, 17, 18, 19, 20, 21, 22, 14, 15, 16, 17, 18, 19, 20, 21, 22, 23, 15, 16, 17, 18, 19, 20, 21, 22, 23, 24, 7, 8, 9, 10, 11, 12, 13, 14, 15, 16, 8, 9, 10, 11, 12, 13, 14, 15, 16, 17, 9, 10, 11, 12, 13, 14, 15, 16, 17, 18, 10, 11, 12, 13, 14, 15, 16, 17, 18, 19, 11, 12, 13, 14, 15, 16, 17, 18, 19, 20, 12, 13, 14, 15, 16, 17, 18, 19, 20, 21, 13, 14, 15, 16, 17, 18, 19, 20, 21, 22, 14, 15, 16, 17, 18, 19, 20, 21, 22, 23, 15, 16, 17, 18, 19, 20, 21, 22, 23, 24, 16, 17, 18, 19, 20, 21, 22, 23, 24, 25, 8, 9, 10, 11, 12, 13, 14, 15, 16, 17, 9, 10, 11, 12, 13, 14, 15, 16, 17, 18, 10, 11, 12, 13, 14, 15, 16, 17, 18, 19, 11, 12, 13, 14, 15, 16, 17, 18, 19, 20, 12, 13, 14, 15, 16, 17, 18, 19, 20, 21, 13, 14, 15, 16, 17, 18, 19, 20, 21, 22, 14, 15, 16, 17, 18, 19, 20, 21, 22, 23, 15, 16, 17, 18, 19, 20, 21, 22, 23, 24, 16, 17, 18, 19, 20, 21, 22, 23, 24, 25, 17, 18, 19, 20, 21, 22, 23, 24, 25, 26, 9, 10, 11, 12, 13, 14, 15, 16, 17, 18, 10, 11, 12, 13, 14, 15, 16, 17, 18, 19, 11, 12, 13, 14, 15, 16, 17, 18, 19, 20, 12, 13, 14, 15, 16, 17, 18, 19, 20, 21, 13, 14, 15, 16, 17, 18, 19, 20, 21, 22, 14, 15, 16, 17, 18, 19, 20, 21, 22, 23, 15, 16, 17, 18, 19, 20, 21, 22, 23, 24, 16, 17, 18, 19, 20, 21, 22, 23, 24, 25, 17, 18, 19, 20, 21, 22, 23, 24, 25, 26, 18, 19, 20, 21, 22, 23, 24, 25, 26, 27, 1]\n"
     ]
    }
   ],
   "source": [
    "\n",
    "digit_sums = [sum(int(digit) for digit in str(num)) for num in range(1, 1001)]\n",
    "print(\"Sum of Digits for Numbers from 1 to 1000:\")\n",
    "print(digit_sums)\n"
   ]
  },
  {
   "cell_type": "raw",
   "id": "702001a1-ba9c-4da1-9144-ba9f9267ecc0",
   "metadata": {},
   "source": [
    "Solution 40"
   ]
  },
  {
   "cell_type": "code",
   "execution_count": 79,
   "id": "40492e91-1dd7-48ff-a558-12293ce4382a",
   "metadata": {},
   "outputs": [
    {
     "name": "stdout",
     "output_type": "stream",
     "text": [
      "Prime Palindromic Numbers:\n",
      "[11, 101, 131, 151, 181, 191, 313, 353, 373, 383, 727, 757, 787, 797, 919, 929]\n"
     ]
    }
   ],
   "source": [
    "\n",
    "prime_palindromes = [num for num in range(10, 1000) if all(num % i != 0 for i in range(2, int(num**0.5) + 1)) and str(num) == str(num)[::-1]]\n",
    "\n",
    "print(\"Prime Palindromic Numbers:\")\n",
    "print(prime_palindromes)\n"
   ]
  }
 ],
 "metadata": {
  "kernelspec": {
   "display_name": "Python 3 (ipykernel)",
   "language": "python",
   "name": "python3"
  },
  "language_info": {
   "codemirror_mode": {
    "name": "ipython",
    "version": 3
   },
   "file_extension": ".py",
   "mimetype": "text/x-python",
   "name": "python",
   "nbconvert_exporter": "python",
   "pygments_lexer": "ipython3",
   "version": "3.10.8"
  }
 },
 "nbformat": 4,
 "nbformat_minor": 5
}
